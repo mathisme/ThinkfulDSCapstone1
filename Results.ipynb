{
 "cells": [
  {
   "cell_type": "code",
   "execution_count": 1,
   "id": "b492dbca",
   "metadata": {},
   "outputs": [],
   "source": [
    "import numpy as np\n",
    "import pandas as pd\n",
    "from scipy import stats\n",
    "import matplotlib.pyplot as plt"
   ]
  },
  {
   "cell_type": "markdown",
   "id": "fd3d43f7",
   "metadata": {},
   "source": [
    "<i>In the introduction below, the company mentioned is ficticious.  This notebook is for Thinkful's Data Science Experimental Design capstone.</i>"
   ]
  },
  {
   "cell_type": "markdown",
   "id": "814d16f2",
   "metadata": {},
   "source": [
    "# INTRODUCTION"
   ]
  },
  {
   "cell_type": "markdown",
   "id": "11434144",
   "metadata": {},
   "source": [
    "There are three main ways to earn revenue from a mobile application:\n",
    "1) Sell the app for some monitary value, <br>\n",
    "2) Publish the app for free but use an in-app advertising service to make money, or <br>\n",
    "3) Offer a subscription service or in-app purchases.\n",
    "\n",
    "Since the company is working on a stand alone application, not one with in app purchases or purchasable services, the first two are the main options for earning revenue.\n",
    "\n",
    "* The majority of most apps found in app stores are free\n",
    "* App stores earn most of their revenue from advertising services\n",
    "\n",
    "Knowing this it seems like option 2, make the app free but ad-enabled, seems to be the best choice.  However as the company is concerned having ads may be detrimental to ratings, leading to fewer downloads and hence less revenue, I am conducting this research project to determine if free apps with ad support in general have lower ratings than paid apps without ads.  As someone who dislikes in-app ads, this subject interests me as well.\n",
    "\n",
    "Upon completion of the research I will ofter my advice to the company as to wether to publish the app for free, with ads, or sell the app in the Google Play Store."
   ]
  },
  {
   "cell_type": "markdown",
   "id": "70ed8c9f",
   "metadata": {},
   "source": [
    "## Research Question: Do free apps with advertisements enabled, on average, get lower ratings with paid apps without ads?"
   ]
  },
  {
   "cell_type": "markdown",
   "id": "adc7a9aa",
   "metadata": {},
   "source": [
    "# HYPOTHESIS"
   ]
  },
  {
   "cell_type": "markdown",
   "id": "0d344e50",
   "metadata": {},
   "source": [
    "$H_{0}$: $\\bar{X}_{Ratings, free} = \\bar{X}_{Ratings, paid}$<br>\n",
    "$H_{A}$: $\\bar{X}_{Ratings, paid} - \\bar{X}_{Ratings, free} > 0$"
   ]
  },
  {
   "cell_type": "markdown",
   "id": "8976a7aa",
   "metadata": {},
   "source": [
    "The null hypothesis, $H_{0}$, states there is no difference in average ratings betweeen ad-enabled free apps and paid apps. If the study fails to reject this, the company should publish the mobile application for free, with ads enabled, as free apps get more downloads."
   ]
  },
  {
   "cell_type": "markdown",
   "id": "0b74b847",
   "metadata": {},
   "source": [
    "The alternate hypothesis, $H_{A}$, states that paid apps, in general, have higher ratings than free apps with ads.  If this is indeed the case, I can analyze how much higher the ratings are, on average, and suggest which avenue to pursue, free or paid, or suggest further research, if needed, to assist the company in making their decision."
   ]
  },
  {
   "cell_type": "markdown",
   "id": "718bdcf8",
   "metadata": {},
   "source": [
    "# DATA"
   ]
  },
  {
   "cell_type": "markdown",
   "id": "5e0756b2",
   "metadata": {},
   "source": [
    "## Dataset Information"
   ]
  },
  {
   "cell_type": "markdown",
   "id": "b654d2da",
   "metadata": {},
   "source": [
    "For the research I chose the availabe Kaggle dataset Google Play Store Apps.  I chose this dataset as it was the largest, most up to date, comprehensive set I could find on app store data.  The dataset can be found here:\n",
    "https://www.kaggle.com/gauthamp10/google-playstore-apps\n",
    "\n",
    "In order to run the cells in this notebook, please download it.\n",
    "\n",
    "The dataset contains 2,312,944 data points and 24 variables.  The variable of most interest is the floating point column 'Rating'.  It holds the average rating for each app and will be used as the dependent variable for this study.  Other variables used in the analysis are: 'Rating Count', 'Maximum Installs', 'Free', 'Ad Supported', and 'In App Purchases'."
   ]
  },
  {
   "cell_type": "code",
   "execution_count": 2,
   "id": "483eb6ad",
   "metadata": {},
   "outputs": [],
   "source": [
    "df = pd.read_csv('..\\data\\Google-Playstore.csv')"
   ]
  },
  {
   "cell_type": "code",
   "execution_count": 3,
   "id": "67dbdd30",
   "metadata": {},
   "outputs": [
    {
     "name": "stdout",
     "output_type": "stream",
     "text": [
      "<class 'pandas.core.frame.DataFrame'>\n",
      "RangeIndex: 2312944 entries, 0 to 2312943\n",
      "Data columns (total 24 columns):\n",
      " #   Column             Dtype  \n",
      "---  ------             -----  \n",
      " 0   App Name           object \n",
      " 1   App Id             object \n",
      " 2   Category           object \n",
      " 3   Rating             float64\n",
      " 4   Rating Count       float64\n",
      " 5   Installs           object \n",
      " 6   Minimum Installs   float64\n",
      " 7   Maximum Installs   int64  \n",
      " 8   Free               bool   \n",
      " 9   Price              float64\n",
      " 10  Currency           object \n",
      " 11  Size               object \n",
      " 12  Minimum Android    object \n",
      " 13  Developer Id       object \n",
      " 14  Developer Website  object \n",
      " 15  Developer Email    object \n",
      " 16  Released           object \n",
      " 17  Last Updated       object \n",
      " 18  Content Rating     object \n",
      " 19  Privacy Policy     object \n",
      " 20  Ad Supported       bool   \n",
      " 21  In App Purchases   bool   \n",
      " 22  Editors Choice     bool   \n",
      " 23  Scraped Time       object \n",
      "dtypes: bool(4), float64(4), int64(1), object(15)\n",
      "memory usage: 361.8+ MB\n"
     ]
    }
   ],
   "source": [
    "df.info()"
   ]
  },
  {
   "cell_type": "code",
   "execution_count": 8,
   "id": "c5668a62",
   "metadata": {},
   "outputs": [
    {
     "name": "stdout",
     "output_type": "stream",
     "text": [
      "Number of rows with missing values:  1025753\n",
      "Number of missing values in 'Rating':  22883\n"
     ]
    }
   ],
   "source": [
    "print(\"Number of rows with missing values: \",df.shape[0] - df.dropna().shape[0])\n",
    "print(\"Number of missing values in 'Rating': \", sum(df.Rating.isnull()))"
   ]
  },
  {
   "cell_type": "markdown",
   "id": "5c4db03e",
   "metadata": {},
   "source": [
    "The dataset contains 1,025,753 records with missing values.  The 'Rating' column contains 22,883 missing values.  When doing the statistical analysis, missing values will be dropped."
   ]
  },
  {
   "cell_type": "markdown",
   "id": "dae193c6",
   "metadata": {},
   "source": [
    "Below, the first five rows of the dataset can be viewed."
   ]
  },
  {
   "cell_type": "code",
   "execution_count": 12,
   "id": "9f2a69d4",
   "metadata": {},
   "outputs": [
    {
     "data": {
      "text/html": [
       "<div>\n",
       "<style scoped>\n",
       "    .dataframe tbody tr th:only-of-type {\n",
       "        vertical-align: middle;\n",
       "    }\n",
       "\n",
       "    .dataframe tbody tr th {\n",
       "        vertical-align: top;\n",
       "    }\n",
       "\n",
       "    .dataframe thead th {\n",
       "        text-align: right;\n",
       "    }\n",
       "</style>\n",
       "<table border=\"1\" class=\"dataframe\">\n",
       "  <thead>\n",
       "    <tr style=\"text-align: right;\">\n",
       "      <th></th>\n",
       "      <th>App Name</th>\n",
       "      <th>App Id</th>\n",
       "      <th>Category</th>\n",
       "      <th>Rating</th>\n",
       "      <th>Rating Count</th>\n",
       "      <th>Installs</th>\n",
       "      <th>Minimum Installs</th>\n",
       "      <th>Maximum Installs</th>\n",
       "      <th>Free</th>\n",
       "      <th>Price</th>\n",
       "      <th>...</th>\n",
       "      <th>Developer Website</th>\n",
       "      <th>Developer Email</th>\n",
       "      <th>Released</th>\n",
       "      <th>Last Updated</th>\n",
       "      <th>Content Rating</th>\n",
       "      <th>Privacy Policy</th>\n",
       "      <th>Ad Supported</th>\n",
       "      <th>In App Purchases</th>\n",
       "      <th>Editors Choice</th>\n",
       "      <th>Scraped Time</th>\n",
       "    </tr>\n",
       "  </thead>\n",
       "  <tbody>\n",
       "    <tr>\n",
       "      <th>0</th>\n",
       "      <td>Gakondo</td>\n",
       "      <td>com.ishakwe.gakondo</td>\n",
       "      <td>Adventure</td>\n",
       "      <td>0.0</td>\n",
       "      <td>0.0</td>\n",
       "      <td>10+</td>\n",
       "      <td>10.0</td>\n",
       "      <td>15</td>\n",
       "      <td>True</td>\n",
       "      <td>0.0</td>\n",
       "      <td>...</td>\n",
       "      <td>https://beniyizibyose.tk/#/</td>\n",
       "      <td>jean21101999@gmail.com</td>\n",
       "      <td>Feb 26, 2020</td>\n",
       "      <td>Feb 26, 2020</td>\n",
       "      <td>Everyone</td>\n",
       "      <td>https://beniyizibyose.tk/projects/</td>\n",
       "      <td>False</td>\n",
       "      <td>False</td>\n",
       "      <td>False</td>\n",
       "      <td>2021-06-15 20:19:35</td>\n",
       "    </tr>\n",
       "    <tr>\n",
       "      <th>1</th>\n",
       "      <td>Ampere Battery Info</td>\n",
       "      <td>com.webserveis.batteryinfo</td>\n",
       "      <td>Tools</td>\n",
       "      <td>4.4</td>\n",
       "      <td>64.0</td>\n",
       "      <td>5,000+</td>\n",
       "      <td>5000.0</td>\n",
       "      <td>7662</td>\n",
       "      <td>True</td>\n",
       "      <td>0.0</td>\n",
       "      <td>...</td>\n",
       "      <td>https://webserveis.netlify.app/</td>\n",
       "      <td>webserveis@gmail.com</td>\n",
       "      <td>May 21, 2020</td>\n",
       "      <td>May 06, 2021</td>\n",
       "      <td>Everyone</td>\n",
       "      <td>https://dev4phones.wordpress.com/licencia-de-uso/</td>\n",
       "      <td>True</td>\n",
       "      <td>False</td>\n",
       "      <td>False</td>\n",
       "      <td>2021-06-15 20:19:35</td>\n",
       "    </tr>\n",
       "    <tr>\n",
       "      <th>2</th>\n",
       "      <td>Vibook</td>\n",
       "      <td>com.doantiepvien.crm</td>\n",
       "      <td>Productivity</td>\n",
       "      <td>0.0</td>\n",
       "      <td>0.0</td>\n",
       "      <td>50+</td>\n",
       "      <td>50.0</td>\n",
       "      <td>58</td>\n",
       "      <td>True</td>\n",
       "      <td>0.0</td>\n",
       "      <td>...</td>\n",
       "      <td>NaN</td>\n",
       "      <td>vnacrewit@gmail.com</td>\n",
       "      <td>Aug 9, 2019</td>\n",
       "      <td>Aug 19, 2019</td>\n",
       "      <td>Everyone</td>\n",
       "      <td>https://www.vietnamairlines.com/vn/en/terms-an...</td>\n",
       "      <td>False</td>\n",
       "      <td>False</td>\n",
       "      <td>False</td>\n",
       "      <td>2021-06-15 20:19:35</td>\n",
       "    </tr>\n",
       "    <tr>\n",
       "      <th>3</th>\n",
       "      <td>Smart City Trichy Public Service Vehicles 17UC...</td>\n",
       "      <td>cst.stJoseph.ug17ucs548</td>\n",
       "      <td>Communication</td>\n",
       "      <td>5.0</td>\n",
       "      <td>5.0</td>\n",
       "      <td>10+</td>\n",
       "      <td>10.0</td>\n",
       "      <td>19</td>\n",
       "      <td>True</td>\n",
       "      <td>0.0</td>\n",
       "      <td>...</td>\n",
       "      <td>http://www.climatesmarttech.com/</td>\n",
       "      <td>climatesmarttech2@gmail.com</td>\n",
       "      <td>Sep 10, 2018</td>\n",
       "      <td>Oct 13, 2018</td>\n",
       "      <td>Everyone</td>\n",
       "      <td>NaN</td>\n",
       "      <td>True</td>\n",
       "      <td>False</td>\n",
       "      <td>False</td>\n",
       "      <td>2021-06-15 20:19:35</td>\n",
       "    </tr>\n",
       "    <tr>\n",
       "      <th>4</th>\n",
       "      <td>GROW.me</td>\n",
       "      <td>com.horodyski.grower</td>\n",
       "      <td>Tools</td>\n",
       "      <td>0.0</td>\n",
       "      <td>0.0</td>\n",
       "      <td>100+</td>\n",
       "      <td>100.0</td>\n",
       "      <td>478</td>\n",
       "      <td>True</td>\n",
       "      <td>0.0</td>\n",
       "      <td>...</td>\n",
       "      <td>http://www.horodyski.com.pl</td>\n",
       "      <td>rmilekhorodyski@gmail.com</td>\n",
       "      <td>Feb 21, 2020</td>\n",
       "      <td>Nov 12, 2018</td>\n",
       "      <td>Everyone</td>\n",
       "      <td>http://www.horodyski.com.pl</td>\n",
       "      <td>False</td>\n",
       "      <td>False</td>\n",
       "      <td>False</td>\n",
       "      <td>2021-06-15 20:19:35</td>\n",
       "    </tr>\n",
       "  </tbody>\n",
       "</table>\n",
       "<p>5 rows × 24 columns</p>\n",
       "</div>"
      ],
      "text/plain": [
       "                                            App Name  \\\n",
       "0                                            Gakondo   \n",
       "1                                Ampere Battery Info   \n",
       "2                                             Vibook   \n",
       "3  Smart City Trichy Public Service Vehicles 17UC...   \n",
       "4                                            GROW.me   \n",
       "\n",
       "                       App Id       Category  Rating  Rating Count Installs  \\\n",
       "0         com.ishakwe.gakondo      Adventure     0.0           0.0      10+   \n",
       "1  com.webserveis.batteryinfo          Tools     4.4          64.0   5,000+   \n",
       "2        com.doantiepvien.crm   Productivity     0.0           0.0      50+   \n",
       "3     cst.stJoseph.ug17ucs548  Communication     5.0           5.0      10+   \n",
       "4        com.horodyski.grower          Tools     0.0           0.0     100+   \n",
       "\n",
       "   Minimum Installs  Maximum Installs  Free  Price  ...  \\\n",
       "0              10.0                15  True    0.0  ...   \n",
       "1            5000.0              7662  True    0.0  ...   \n",
       "2              50.0                58  True    0.0  ...   \n",
       "3              10.0                19  True    0.0  ...   \n",
       "4             100.0               478  True    0.0  ...   \n",
       "\n",
       "                  Developer Website              Developer Email  \\\n",
       "0       https://beniyizibyose.tk/#/       jean21101999@gmail.com   \n",
       "1   https://webserveis.netlify.app/         webserveis@gmail.com   \n",
       "2                               NaN          vnacrewit@gmail.com   \n",
       "3  http://www.climatesmarttech.com/  climatesmarttech2@gmail.com   \n",
       "4       http://www.horodyski.com.pl    rmilekhorodyski@gmail.com   \n",
       "\n",
       "       Released  Last Updated Content Rating  \\\n",
       "0  Feb 26, 2020  Feb 26, 2020       Everyone   \n",
       "1  May 21, 2020  May 06, 2021       Everyone   \n",
       "2   Aug 9, 2019  Aug 19, 2019       Everyone   \n",
       "3  Sep 10, 2018  Oct 13, 2018       Everyone   \n",
       "4  Feb 21, 2020  Nov 12, 2018       Everyone   \n",
       "\n",
       "                                      Privacy Policy Ad Supported  \\\n",
       "0                 https://beniyizibyose.tk/projects/        False   \n",
       "1  https://dev4phones.wordpress.com/licencia-de-uso/         True   \n",
       "2  https://www.vietnamairlines.com/vn/en/terms-an...        False   \n",
       "3                                                NaN         True   \n",
       "4                        http://www.horodyski.com.pl        False   \n",
       "\n",
       "  In App Purchases Editors Choice         Scraped Time  \n",
       "0            False          False  2021-06-15 20:19:35  \n",
       "1            False          False  2021-06-15 20:19:35  \n",
       "2            False          False  2021-06-15 20:19:35  \n",
       "3            False          False  2021-06-15 20:19:35  \n",
       "4            False          False  2021-06-15 20:19:35  \n",
       "\n",
       "[5 rows x 24 columns]"
      ]
     },
     "execution_count": 12,
     "metadata": {},
     "output_type": "execute_result"
    }
   ],
   "source": [
    "df.head(5)"
   ]
  },
  {
   "cell_type": "markdown",
   "id": "70af4995",
   "metadata": {},
   "source": [
    "## Data preprocessing"
   ]
  },
  {
   "cell_type": "markdown",
   "id": "bcf0c366",
   "metadata": {},
   "source": [
    "As the study has to do with ratings, first I filtered for observations with a rating count greater than 0."
   ]
  },
  {
   "cell_type": "code",
   "execution_count": 4,
   "id": "062cc7d7",
   "metadata": {},
   "outputs": [],
   "source": [
    "df = df[df['Rating Count']>0]"
   ]
  },
  {
   "cell_type": "markdown",
   "id": "6deddeb5",
   "metadata": {},
   "source": [
    "Looking at installs"
   ]
  },
  {
   "cell_type": "code",
   "execution_count": 4,
   "id": "337b56a3",
   "metadata": {},
   "outputs": [
    {
     "data": {
      "text/plain": [
       "array(['5,000+', '10+', '1,000+', '500+', '50,000+', '100+', '10,000+',\n",
       "       '50+', '500,000+', '100,000+', '10,000,000+', '1,000,000+',\n",
       "       '5,000,000+', '5+', '100,000,000+', '0+', '50,000,000+',\n",
       "       '1,000,000,000+', '500,000,000+', '1+', '5,000,000,000+',\n",
       "       '10,000,000,000+'], dtype=object)"
      ]
     },
     "execution_count": 4,
     "metadata": {},
     "output_type": "execute_result"
    }
   ],
   "source": [
    "df.Installs.unique()"
   ]
  },
  {
   "cell_type": "code",
   "execution_count": 5,
   "id": "93ee8638",
   "metadata": {},
   "outputs": [
    {
     "data": {
      "text/plain": [
       "count    1.230299e+06\n",
       "mean     6.003751e+05\n",
       "std      3.229278e+07\n",
       "min      0.000000e+00\n",
       "25%      1.267000e+03\n",
       "50%      5.634000e+03\n",
       "75%      3.349600e+04\n",
       "max      1.205763e+10\n",
       "Name: Maximum Installs, dtype: float64"
      ]
     },
     "execution_count": 5,
     "metadata": {},
     "output_type": "execute_result"
    }
   ],
   "source": [
    "df['Maximum Installs'].describe()"
   ]
  },
  {
   "cell_type": "markdown",
   "id": "5e8d578b",
   "metadata": {},
   "source": [
    "The number of installs range from 0 installs to over 10 billion installs.  Apps that are only installed a few times will vary greatly from apps that are installed more than a million times.  To reduce bias, I filtered the dataset to only include apps installed at least ten thousand times. "
   ]
  },
  {
   "cell_type": "code",
   "execution_count": 5,
   "id": "2f2787fe",
   "metadata": {},
   "outputs": [],
   "source": [
    "df = df[df['Maximum Installs']>=10000]"
   ]
  },
  {
   "cell_type": "markdown",
   "id": "9c50ae6f",
   "metadata": {},
   "source": [
    "I then split the dataset into two sets, once containing free apps with ads enabled, the other consisting of paid apps withut ads."
   ]
  },
  {
   "cell_type": "code",
   "execution_count": 6,
   "id": "3b42e0f2",
   "metadata": {},
   "outputs": [
    {
     "name": "stdout",
     "output_type": "stream",
     "text": [
      "The number of entries in the free subset:  345410\n",
      "The number of entries in the paid subset:  5018\n"
     ]
    }
   ],
   "source": [
    "df_free = df[df.Free==True]\n",
    "df_free = df_free[df_free['Ad Supported']==True]\n",
    "df_paid = df[df.Free==False]\n",
    "df_paid = df_paid[df_paid['Ad Supported']==False]\n",
    "print('The number of entries in the free subset: ', df_free.shape[0])\n",
    "print('The number of entries in the paid subset: ', df_paid.shape[0])"
   ]
  },
  {
   "cell_type": "markdown",
   "id": "93a3641f",
   "metadata": {},
   "source": [
    "Finally, as the size of the free subset greatly exceeds that for the paid subset, I chose a random sample of 2,500 entries for each set.  Having an equal amount of entries will simplify comparisons later in the analysis. "
   ]
  },
  {
   "cell_type": "code",
   "execution_count": 7,
   "id": "80f7e302",
   "metadata": {},
   "outputs": [],
   "source": [
    "df_free = df_free.sample(n = 2500)\n",
    "df_paid = df_paid.sample(n = 2500)"
   ]
  },
  {
   "cell_type": "markdown",
   "id": "0fd1adaa",
   "metadata": {},
   "source": [
    "# METHODS"
   ]
  },
  {
   "cell_type": "markdown",
   "id": "a9d41932",
   "metadata": {},
   "source": [
    "To determine if, on average, free apps with ads get lower ratings than paid apps I will perfoorm a one sided t-test comparing the means of the ratings.  In order to perform a ttest the data needs to be independent and normally distributed.  As each data point is a different app, independence can be reasonably assumed.  To test for normality, I will first view a histogram of each Ratings column."
   ]
  },
  {
   "cell_type": "code",
   "execution_count": 8,
   "id": "f423dcc4",
   "metadata": {},
   "outputs": [
    {
     "data": {
      "text/plain": [
       "<AxesSubplot:>"
      ]
     },
     "execution_count": 8,
     "metadata": {},
     "output_type": "execute_result"
    },
    {
     "data": {
      "image/png": "[encoded data removed]",
      "text/plain": [
       "<Figure size 432x288 with 2 Axes>"
      ]
     },
     "metadata": {
      "needs_background": "light"
     },
     "output_type": "display_data"
    }
   ],
   "source": [
    "fig, axes = plt.subplots(1, 2)\n",
    "df_free.Rating.hist(ax=axes[0])\n",
    "df_paid.Rating.hist(ax=axes[1])"
   ]
  },
  {
   "cell_type": "markdown",
   "id": "b101e383",
   "metadata": {},
   "source": [
    "As seen, the distributions are similar but clearly not normal as there is a strong left skew.  In order to make the data more normal, I will apply a transformation of cubing the ratings column in each data subset."
   ]
  },
  {
   "cell_type": "code",
   "execution_count": 9,
   "id": "026e2918",
   "metadata": {},
   "outputs": [
    {
     "data": {
      "text/plain": [
       "<AxesSubplot:>"
      ]
     },
     "execution_count": 9,
     "metadata": {},
     "output_type": "execute_result"
    },
    {
     "data": {
      "image/png": "[encoded data removed]",
      "text/plain": [
       "<Figure size 432x288 with 2 Axes>"
      ]
     },
     "metadata": {
      "needs_background": "light"
     },
     "output_type": "display_data"
    }
   ],
   "source": [
    "df_free['Ratings_cubed'] = df_free.Rating**3\n",
    "df_paid['Ratings_cubed'] = df_paid.Rating**3\n",
    "fig, axes = plt.subplots(1, 2)\n",
    "df_free.Ratings_cubed.hist(ax=axes[0])\n",
    "df_paid.Ratings_cubed.hist(ax=axes[1])"
   ]
  },
  {
   "cell_type": "markdown",
   "id": "4ee4d150",
   "metadata": {},
   "source": [
    "The transformation appears more normal.  Next the statistical values of skew and kurtosis will be measured for each to check for normality of the transformation."
   ]
  },
  {
   "cell_type": "code",
   "execution_count": 10,
   "id": "fbe3553a",
   "metadata": {},
   "outputs": [
    {
     "data": {
      "text/plain": [
       "DescribeResult(nobs=2500, minmax=(2.7439999999999993, 125.0), mean=69.2188136, variance=517.4140690504752, skewness=-0.29161496241182616, kurtosis=-0.38768534632076745)"
      ]
     },
     "execution_count": 10,
     "metadata": {},
     "output_type": "execute_result"
    }
   ],
   "source": [
    "stats.describe(df_free.Ratings_cubed)"
   ]
  },
  {
   "cell_type": "code",
   "execution_count": 11,
   "id": "f1c8090e",
   "metadata": {},
   "outputs": [
    {
     "data": {
      "text/plain": [
       "DescribeResult(nobs=2500, minmax=(4.096000000000001, 125.0), mean=72.7088916, variance=573.3616394820423, skewness=-0.5184710843227424, kurtosis=-0.1517858280397606)"
      ]
     },
     "execution_count": 11,
     "metadata": {},
     "output_type": "execute_result"
    }
   ],
   "source": [
    "stats.describe(df_paid.Ratings_cubed)"
   ]
  },
  {
   "cell_type": "markdown",
   "id": "427bab9b",
   "metadata": {},
   "source": [
    "Although skew is still apparent, the values calculated indicate normality, making a ttest for difference of means possible."
   ]
  },
  {
   "cell_type": "markdown",
   "id": "c72a49a5",
   "metadata": {},
   "source": [
    "Before conduction the test, an A/A test is performed on both subsets to look for additional bias. No bias is apparent.  The test performed can be found [here](#aa)."
   ]
  },
  {
   "cell_type": "markdown",
   "id": "2b51c8c0",
   "metadata": {},
   "source": [
    "# RESULTS"
   ]
  },
  {
   "cell_type": "code",
   "execution_count": 12,
   "id": "f9fd7597",
   "metadata": {},
   "outputs": [
    {
     "data": {
      "text/plain": [
       "Ttest_indResult(statistic=-5.283690967131318, pvalue=6.599144196654699e-08)"
      ]
     },
     "execution_count": 12,
     "metadata": {},
     "output_type": "execute_result"
    }
   ],
   "source": [
    "stats.ttest_ind(df_free.Ratings_cubed.dropna(),df_paid.Ratings_cubed.dropna(),alternative='less')"
   ]
  },
  {
   "cell_type": "markdown",
   "id": "b0cec586",
   "metadata": {},
   "source": [
    "From the statistical test, at a 5% significance level there is enough evidence to reject the null hypothesis and favor the akternative hypothesis.  Statistically, free apps with ads enabled get lower ratings than paid apps.  \n",
    "\n",
    "As ratings are not normally distributed, a conidence interval for the difference of means cannot be calculated.  However using a statistical method called bootstrapping can be used to derive a confidence interval.  I used bootstrapping to come up with a confidence interval.  The code can be found here.\n",
    "\n",
    "The 95% confidence interval for the difference of means is:\n",
    "\n",
    "(0.0611, 0.0619)\n",
    "\n",
    "95% of the time, the difference of average ratings for paid apps and free apps with ads will fall within this interval.\n",
    "\n"
   ]
  },
  {
   "cell_type": "markdown",
   "id": "80f22c88",
   "metadata": {},
   "source": [
    "# DISCUSSION AND RECOMMENDATIONS"
   ]
  },
  {
   "cell_type": "markdown",
   "id": "2af05786",
   "metadata": {},
   "source": [
    "Statistically, there is a difference between ratings of free apps and paid apps.  However that difference is so miniscule, I would suggest publishing the mobile app for free with ads enabled.  Further options for research include conducting sentiment analysis on the reviews of apps to see if ad-supported free app reviews are more negative than paid apps."
   ]
  },
  {
   "cell_type": "markdown",
   "id": "8dbea36f",
   "metadata": {},
   "source": [
    "# References"
   ]
  },
  {
   "cell_type": "markdown",
   "id": "b8edbcbd",
   "metadata": {},
   "source": [
    "https://developer.android.com/distribute/best-practices/earn/monetization-options"
   ]
  },
  {
   "cell_type": "markdown",
   "id": "63d99655",
   "metadata": {},
   "source": [
    "# Appendix"
   ]
  },
  {
   "cell_type": "markdown",
   "id": "4dc6032e",
   "metadata": {},
   "source": [
    "<a id='aa'></a>\n",
    "## A/A testing for bias"
   ]
  },
  {
   "cell_type": "code",
   "execution_count": 25,
   "id": "0889d83d",
   "metadata": {},
   "outputs": [
    {
     "data": {
      "text/plain": [
       "Ttest_indResult(statistic=0.8442126503860155, pvalue=0.3986314258375284)"
      ]
     },
     "execution_count": 25,
     "metadata": {},
     "output_type": "execute_result"
    }
   ],
   "source": [
    "df_free_a = df_free.sample(frac = 0.5)\n",
    "df_free_b = df_free.drop(df_free_a.index)\n",
    "stats.ttest_ind(df_free_a.Ratings_cubed.dropna(), df_free_b.Ratings_cubed.dropna())"
   ]
  },
  {
   "cell_type": "code",
   "execution_count": 27,
   "id": "e940730f",
   "metadata": {},
   "outputs": [
    {
     "data": {
      "text/plain": [
       "Ttest_indResult(statistic=0.9413851233349498, pvalue=0.34659856044668713)"
      ]
     },
     "execution_count": 27,
     "metadata": {},
     "output_type": "execute_result"
    }
   ],
   "source": [
    "df_paid_a = df_paid.sample(frac = 0.5)\n",
    "df_paid_b = df_paid.drop(df_paid_a.index)\n",
    "stats.ttest_ind(df_paid_a.Ratings_cubed.dropna(), df_paid_b.Ratings_cubed.dropna())"
   ]
  },
  {
   "cell_type": "markdown",
   "id": "6fdf098d",
   "metadata": {},
   "source": [
    "## Bootsrapping for the confidence interval"
   ]
  },
  {
   "cell_type": "code",
   "execution_count": 15,
   "id": "89f9a5bb",
   "metadata": {},
   "outputs": [
    {
     "name": "stdout",
     "output_type": "stream",
     "text": [
      "( 0.06105112390288702 ,  0.06188761592257077 )\n"
     ]
    }
   ],
   "source": [
    "import math\n",
    "\n",
    "means = []\n",
    "df_boots = pd.concat([df_free,df_paid])\n",
    "for _ in range(10000):\n",
    "    df_rand = df_boots.sample(n=5000,replace=True)\n",
    "    df_rand_free = df_rand[df_rand.Free==True]\n",
    "    df_rand_paid = df_rand[df_rand.Free==False]\n",
    "    mu1 = df_rand_paid.Rating.mean()\n",
    "    mu2 = df_rand_free.Rating.mean()\n",
    "    means.append(mu1-mu2)\n",
    "mu = np.mean(means)\n",
    "s = np.std(means)\n",
    "sqrt_n = math.sqrt(5000)\n",
    "a = mu - 1.96*s/sqrt_n\n",
    "b = mu + 1.96*s/sqrt_n\n",
    "print('(',a,', ',b,')')"
   ]
  },
  {
   "cell_type": "code",
   "execution_count": null,
   "id": "a781cf12",
   "metadata": {},
   "outputs": [],
   "source": []
  }
 ],
 "metadata": {
  "kernelspec": {
   "display_name": "Python 3",
   "language": "python",
   "name": "python3"
  },
  "language_info": {
   "codemirror_mode": {
    "name": "ipython",
    "version": 3
   },
   "file_extension": ".py",
   "mimetype": "text/x-python",
   "name": "python",
   "nbconvert_exporter": "python",
   "pygments_lexer": "ipython3",
   "version": "3.9.5"
  }
 },
 "nbformat": 4,
 "nbformat_minor": 5
}
