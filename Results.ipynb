{
 "cells": [
  {
   "cell_type": "code",
   "execution_count": null,
   "id": "b492dbca",
   "metadata": {},
   "outputs": [],
   "source": [
    "import numpy as np\n",
    "import pandas as pd\n",
    "from scipy import stats\n",
    "import matplotlib.pyplot as plt"
   ]
  },
  {
   "cell_type": "markdown",
   "id": "fd3d43f7",
   "metadata": {},
   "source": [
    "<i>In the introduction below, the company mentioned is ficticious.  This notebook is for Thinkful's Data Science Experimental Design capstone.</i>"
   ]
  },
  {
   "cell_type": "markdown",
   "id": "814d16f2",
   "metadata": {},
   "source": [
    "# INTRODUCTION"
   ]
  },
  {
   "cell_type": "markdown",
   "id": "11434144",
   "metadata": {},
   "source": [
    "There are three main ways to earn revenue from a mobile application\n",
    "1) Sell the app for some monitary value,\n",
    "2) Publish the app for free but use an in-app advertising service to make money, or\n",
    "3) Offer a subscription service or in-app purchases\n",
    "\n",
    "Since the company is working on a stand alone application, not one with in app purchases or purchasable services, the first two are the main options for earning revenue.\n",
    "\n",
    "* The majority of most apps found in app stores are free\n",
    "* App stores earn most of their revenue from advertising services\n",
    "\n",
    "Knowing this it seems like option 2, make the app free but ad-enabled, seems to be the best choice.  However as the company is concerned having ads may be detrimental to ratings, leading to fewer downloads and hence less revenue, I am conducting this research project to determine if free apps with ad support in general have lower ratings than paid apps without ads.  As someone who dislikes in-app ads, this subject interests me as well.\n",
    "\n",
    "Upon completion of the research I will ofter my advice to the company as to wether to publish the app for free, with ads, or sell the app in the Google Play Store."
   ]
  },
  {
   "cell_type": "markdown",
   "id": "70ed8c9f",
   "metadata": {},
   "source": [
    "## Research Question: Do free apps with advertisements enabled, on average, get lower ratings with paid apps without ads?"
   ]
  },
  {
   "cell_type": "markdown",
   "id": "adc7a9aa",
   "metadata": {},
   "source": [
    "# HYPOTHESIS"
   ]
  },
  {
   "cell_type": "markdown",
   "id": "0d344e50",
   "metadata": {},
   "source": [
    "$H_{0}$: $\\bar{X}_{Ratings, free} = \\bar{X}_{Ratings, paid}$<br>\n",
    "$H_{A}$: $\\bar{X}_{Ratings, paid} - \\bar{X}_{Ratings, free} > 0$"
   ]
  },
  {
   "cell_type": "markdown",
   "id": "8976a7aa",
   "metadata": {},
   "source": [
    "The null hypothesis, $H_{0}$, states there is no difference in average ratings betweeen ad-enabled free apps and paid apps. If this is indeed the case, the company should publish the mobile application for free, with ads enabled, as free apps get more downloads."
   ]
  },
  {
   "cell_type": "markdown",
   "id": "0b74b847",
   "metadata": {},
   "source": [
    "The alternate hypothesis, $H_{A}$, states that paid apps, in general, have higher ratings than free apps with ads.  If this is indeed the case, I can analyze how much higher the ratings are, on average, and suggest further research, if needed, to assist the company in making a decision of free versus paid."
   ]
  },
  {
   "cell_type": "markdown",
   "id": "718bdcf8",
   "metadata": {},
   "source": [
    "# DATA"
   ]
  },
  {
   "cell_type": "code",
   "execution_count": null,
   "id": "1565c853",
   "metadata": {},
   "outputs": [],
   "source": []
  },
  {
   "cell_type": "markdown",
   "id": "b654d2da",
   "metadata": {},
   "source": [
    "The data used can be found here on Kaggle.\n",
    "https://www.kaggle.com/gauthamp10/google-playstore-apps\n",
    "\n",
    "In order to run the cells in this notebook, please download it."
   ]
  },
  {
   "cell_type": "code",
   "execution_count": null,
   "id": "483eb6ad",
   "metadata": {},
   "outputs": [],
   "source": [
    "df = pd.read_csv('..\\data\\Google-Playstore.csv')"
   ]
  },
  {
   "cell_type": "markdown",
   "id": "0fd1adaa",
   "metadata": {},
   "source": [
    "# METHODS"
   ]
  },
  {
   "cell_type": "code",
   "execution_count": null,
   "id": "f423dcc4",
   "metadata": {},
   "outputs": [],
   "source": []
  },
  {
   "cell_type": "markdown",
   "id": "2b51c8c0",
   "metadata": {},
   "source": [
    "# RESULTS"
   ]
  },
  {
   "cell_type": "code",
   "execution_count": null,
   "id": "f68756ee",
   "metadata": {},
   "outputs": [],
   "source": []
  },
  {
   "cell_type": "markdown",
   "id": "80f22c88",
   "metadata": {},
   "source": [
    "# DISCUSSION AND RECOMMENDATIONS"
   ]
  },
  {
   "cell_type": "code",
   "execution_count": null,
   "id": "d88be652",
   "metadata": {},
   "outputs": [],
   "source": []
  },
  {
   "cell_type": "markdown",
   "id": "8dbea36f",
   "metadata": {},
   "source": [
    "# References"
   ]
  },
  {
   "cell_type": "markdown",
   "id": "b8edbcbd",
   "metadata": {},
   "source": [
    "https://developer.android.com/distribute/best-practices/earn/monetization-options"
   ]
  },
  {
   "cell_type": "markdown",
   "id": "63d99655",
   "metadata": {},
   "source": [
    "# Appendix"
   ]
  },
  {
   "cell_type": "markdown",
   "id": "4dc6032e",
   "metadata": {},
   "source": [
    "## A/A testing for bias"
   ]
  },
  {
   "cell_type": "code",
   "execution_count": null,
   "id": "0889d83d",
   "metadata": {},
   "outputs": [],
   "source": []
  },
  {
   "cell_type": "markdown",
   "id": "6fdf098d",
   "metadata": {},
   "source": [
    "## Bootsrapping to get the confidence interval"
   ]
  },
  {
   "cell_type": "code",
   "execution_count": null,
   "id": "89f9a5bb",
   "metadata": {},
   "outputs": [],
   "source": []
  }
 ],
 "metadata": {
  "kernelspec": {
   "display_name": "Python 3",
   "language": "python",
   "name": "python3"
  },
  "language_info": {
   "codemirror_mode": {
    "name": "ipython",
    "version": 3
   },
   "file_extension": ".py",
   "mimetype": "text/x-python",
   "name": "python",
   "nbconvert_exporter": "python",
   "pygments_lexer": "ipython3",
   "version": "3.9.5"
  }
 },
 "nbformat": 4,
 "nbformat_minor": 5
}
